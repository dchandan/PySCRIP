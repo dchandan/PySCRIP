{
 "cells": [
  {
   "cell_type": "code",
   "execution_count": 1,
   "metadata": {
    "collapsed": true
   },
   "outputs": [],
   "source": [
    "%load_ext autoreload\n",
    "%autoreload 2\n",
    "%matplotlib inline"
   ]
  },
  {
   "cell_type": "code",
   "execution_count": 2,
   "metadata": {
    "collapsed": true
   },
   "outputs": [],
   "source": [
    "import numpy as np\n",
    "import pandas as pd\n",
    "import matplotlib as mpl\n",
    "from mpl_toolkits.basemap import Basemap\n",
    "import warnings\n",
    "import matplotlib.cbook\n",
    "warnings.filterwarnings(\"ignore\",category=matplotlib.cbook.mplDeprecation)\n",
    "import matplotlib.pyplot as plt\n",
    "from netCDF4 import Dataset\n",
    "import os.path as osp"
   ]
  },
  {
   "cell_type": "code",
   "execution_count": 3,
   "metadata": {
    "collapsed": true
   },
   "outputs": [],
   "source": [
    "ncf = Dataset(\"/Users/dchandan/Research/CESM/mapping/pyscrip_modern_gx3v7_to_ll1_conserv.nc\", \"r\")"
   ]
  },
  {
   "cell_type": "code",
   "execution_count": 54,
   "metadata": {},
   "outputs": [],
   "source": [
    "rmp = ncf[\"remap_matrix\"][:,:]\n",
    "rmp2 = np.copy(rmp)"
   ]
  },
  {
   "cell_type": "code",
   "execution_count": 55,
   "metadata": {},
   "outputs": [
    {
     "name": "stdout",
     "output_type": "stream",
     "text": [
      "1181783.16269\n",
      "(array([94360]), array([0]))\n"
     ]
    }
   ],
   "source": [
    "print(rmp.max())\n",
    "print(np.where(rmp == rmp.max()))"
   ]
  },
  {
   "cell_type": "code",
   "execution_count": 56,
   "metadata": {},
   "outputs": [
    {
     "data": {
      "text/plain": [
       "array([[  4.26258983e-01,   2.94703371e-03,   8.92526210e-04],\n",
       "       [  5.71573739e-01,   4.64971484e-04,   1.84040084e-02],\n",
       "       [  4.28426261e-01,   2.96684077e-03,   1.01171493e-03],\n",
       "       [  5.69765204e-01,   4.71437821e-04,   1.84266034e-02],\n",
       "       [  4.30234796e-01,   2.98341075e-03,   1.13108670e-03],\n",
       "       [  5.68310944e-01,   4.76610024e-04,   1.84612387e-02],\n",
       "       [  4.31689056e-01,   2.99676225e-03,   1.25040644e-03],\n",
       "       [  5.67207385e-01,   4.80518580e-04,   1.85080143e-02],\n",
       "       [  4.32792615e-01,   3.00691033e-03,   1.36944135e-03],\n",
       "       [ -1.18178260e+06,  -9.78705439e+03,   6.06639600e+05],\n",
       "       [  1.18178316e+06,   1.13576114e+04,  -5.92076826e+05],\n",
       "       [ -1.55015568e-07,  -3.46444218e-09,   2.79963237e-08],\n",
       "       [  4.33548039e-01,   3.01386337e-03,   1.48793472e-03],\n",
       "       [  1.00006604e+00,   8.28250999e-03,  -6.88373264e-01],\n",
       "       [ -6.60415903e-05,  -4.59097379e-07,   2.26665392e-07],\n",
       "       [  1.00006593e+00,   8.28251055e-03,  -6.74663405e-01],\n",
       "       [ -6.59264524e-05,  -4.58036769e-07,   2.08603672e-07],\n",
       "       [  1.00006576e+00,   8.28251137e-03,  -6.60953547e-01],\n",
       "       [ -6.57583494e-05,  -4.56490932e-07,   1.90471316e-07],\n",
       "       [  1.00006554e+00,   8.28251245e-03,  -6.47243688e-01]])"
      ]
     },
     "execution_count": 56,
     "metadata": {},
     "output_type": "execute_result"
    }
   ],
   "source": [
    "rmp[94360-10:94360+10,:]"
   ]
  },
  {
   "cell_type": "code",
   "execution_count": 57,
   "metadata": {},
   "outputs": [
    {
     "data": {
      "text/plain": [
       "(array([     1,      0,      0,      0,      0,      0,      0,      1,\n",
       "             0,      0,      0,      0,      0,      0, 225144,  58175,\n",
       "             0,      0,      0,      0,      0,      0,      1,      0,\n",
       "             0,      0,      0,      0,      0,      1]),\n",
       " array([ -1.18178260e+06,  -1.10299707e+06,  -1.02421155e+06,\n",
       "         -9.45426020e+05,  -8.66640495e+05,  -7.87854970e+05,\n",
       "         -7.09069444e+05,  -6.30283919e+05,  -5.51498394e+05,\n",
       "         -4.72712869e+05,  -3.93927343e+05,  -3.15141818e+05,\n",
       "         -2.36356293e+05,  -1.57570767e+05,  -7.87852421e+04,\n",
       "          2.83226058e-01,   7.87858085e+04,   1.57571334e+05,\n",
       "          2.36356859e+05,   3.15142384e+05,   3.93927910e+05,\n",
       "          4.72713435e+05,   5.51498960e+05,   6.30284486e+05,\n",
       "          7.09070011e+05,   7.87855536e+05,   8.66641061e+05,\n",
       "          9.45426587e+05,   1.02421211e+06,   1.10299764e+06,\n",
       "          1.18178316e+06]))"
      ]
     },
     "execution_count": 57,
     "metadata": {},
     "output_type": "execute_result"
    }
   ],
   "source": [
    "np.histogram(rmp,bins=30)"
   ]
  },
  {
   "cell_type": "code",
   "execution_count": 58,
   "metadata": {},
   "outputs": [
    {
     "data": {
      "text/plain": [
       "array([[  5.67207385e-01,   4.80518580e-04,   1.85080143e-02],\n",
       "       [  4.32792615e-01,   3.00691033e-03,   1.36944135e-03],\n",
       "       [ -1.18178260e+06,  -9.78705439e+03,   6.06639600e+05],\n",
       "       [  1.18178316e+06,   1.13576114e+04,  -5.92076826e+05],\n",
       "       [ -1.55015568e-07,  -3.46444218e-09,   2.79963237e-08],\n",
       "       [  4.33548039e-01,   3.01386337e-03,   1.48793472e-03]])"
      ]
     },
     "execution_count": 58,
     "metadata": {},
     "output_type": "execute_result"
    }
   ],
   "source": [
    "rmp2[94360-3:94360+3,:]"
   ]
  },
  {
   "cell_type": "code",
   "execution_count": 60,
   "metadata": {},
   "outputs": [
    {
     "data": {
      "text/plain": [
       "3521.0200468541684"
      ]
     },
     "execution_count": 60,
     "metadata": {},
     "output_type": "execute_result"
    }
   ],
   "source": [
    "rmp2.flatten().std()"
   ]
  },
  {
   "cell_type": "code",
   "execution_count": 61,
   "metadata": {},
   "outputs": [
    {
     "data": {
      "text/plain": [
       "(array([93633, 93634, 93634, 93957, 93957, 93958, 93958, 94359, 94359,\n",
       "        94359, 94360, 94360, 94360]),\n",
       " array([0, 0, 2, 0, 2, 0, 2, 0, 1, 2, 0, 1, 2]))"
      ]
     },
     "execution_count": 61,
     "metadata": {},
     "output_type": "execute_result"
    }
   ],
   "source": [
    "np.where(abs(rmp2) > rmp2.std() )"
   ]
  },
  {
   "cell_type": "code",
   "execution_count": 62,
   "metadata": {},
   "outputs": [],
   "source": [
    "rmp2[94359,:] = rmp2[94358,:]\n",
    "rmp2[94360,:] = rmp2[94361,:]"
   ]
  },
  {
   "cell_type": "code",
   "execution_count": 63,
   "metadata": {},
   "outputs": [
    {
     "data": {
      "text/plain": [
       "array([[  5.67207385e-01,   4.80518580e-04,   1.85080143e-02],\n",
       "       [  4.32792615e-01,   3.00691033e-03,   1.36944135e-03],\n",
       "       [  4.32792615e-01,   3.00691033e-03,   1.36944135e-03],\n",
       "       [ -1.55015568e-07,  -3.46444218e-09,   2.79963237e-08],\n",
       "       [ -1.55015568e-07,  -3.46444218e-09,   2.79963237e-08],\n",
       "       [  4.33548039e-01,   3.01386337e-03,   1.48793472e-03]])"
      ]
     },
     "execution_count": 63,
     "metadata": {},
     "output_type": "execute_result"
    }
   ],
   "source": [
    "rmp2[94360-3:94360+3,:]"
   ]
  },
  {
   "cell_type": "code",
   "execution_count": 64,
   "metadata": {},
   "outputs": [
    {
     "data": {
      "text/plain": [
       "(array([     2,      0,      0,      0,      0,      0,      0,      2,\n",
       "             0,      0,      0,      0,      0,      0,      0,      0,\n",
       "             0, 283315,      0,      1,      0,      0,      0,      0,\n",
       "             0,      0,      0,      2,      0,      1]),\n",
       " array([-11591.39160899, -10929.14563055, -10266.89965212,  -9604.65367369,\n",
       "         -8942.40769526,  -8280.16171683,  -7617.9157384 ,  -6955.66975996,\n",
       "         -6293.42378153,  -5631.1778031 ,  -4968.93182467,  -4306.68584624,\n",
       "         -3644.43986781,  -2982.19388937,  -2319.94791094,  -1657.70193251,\n",
       "          -995.45595408,   -333.20997565,    329.03600278,    991.28198122,\n",
       "          1653.52795965,   2315.77393808,   2978.01991651,   3640.26589494,\n",
       "          4302.51187337,   4964.75785181,   5627.00383024,   6289.24980867,\n",
       "          6951.4957871 ,   7613.74176553,   8275.98774397]))"
      ]
     },
     "execution_count": 64,
     "metadata": {},
     "output_type": "execute_result"
    }
   ],
   "source": [
    "np.histogram(rmp2,bins=30)"
   ]
  },
  {
   "cell_type": "code",
   "execution_count": 65,
   "metadata": {},
   "outputs": [
    {
     "name": "stdout",
     "output_type": "stream",
     "text": [
      "-11591.391609\n",
      "(array([93957]), array([2]))\n"
     ]
    }
   ],
   "source": [
    "print(rmp2.min())\n",
    "print(np.where(rmp2 == rmp2.min()))"
   ]
  },
  {
   "cell_type": "code",
   "execution_count": 66,
   "metadata": {},
   "outputs": [
    {
     "data": {
      "text/plain": [
       "array([[ -1.40931436e-04,  -5.08130524e-07,  -6.26068780e-07],\n",
       "       [  1.00014093e+00,   8.28241081e-03,   1.75198414e+00],\n",
       "       [  9.25174392e-01,   3.33565976e-03,   4.30888152e-03],\n",
       "       [ -2.50573332e-09,  -3.99049154e-11,   7.64111614e-10],\n",
       "       [ -6.56570454e+03,  -5.43721996e+01,  -1.15913916e+04],\n",
       "       [  6.56577937e+03,   6.30983208e+01,  -1.14345126e+04],\n",
       "       [  9.25174522e-01,   3.33566183e-03,  -4.30892115e-03],\n",
       "       [  7.48254784e-02,   4.80933514e-04,   1.33649065e-03]])"
      ]
     },
     "execution_count": 66,
     "metadata": {},
     "output_type": "execute_result"
    }
   ],
   "source": [
    "rmp2[93957-4: 93957+4,:]"
   ]
  },
  {
   "cell_type": "code",
   "execution_count": 67,
   "metadata": {
    "collapsed": true
   },
   "outputs": [],
   "source": [
    "rmp2[93957,:] = rmp2[93956,:]\n",
    "rmp2[93958,:] = rmp2[93959,:]"
   ]
  },
  {
   "cell_type": "code",
   "execution_count": 68,
   "metadata": {},
   "outputs": [
    {
     "data": {
      "text/plain": [
       "(array([     1,      0,      0,      0,      0,      0,      0,      0,\n",
       "             0,      0,      0,      0,      0, 283319,      0,      1,\n",
       "             0,      0,      0,      0,      0,      0,      0,      0,\n",
       "             0,      0,      1,      0,      0,      1]),\n",
       " array([-6564.84966328, -6070.15508303, -5575.46050279, -5080.76592255,\n",
       "        -4586.07134231, -4091.37676207, -3596.68218183, -3101.98760159,\n",
       "        -2607.29302134, -2112.5984411 , -1617.90386086, -1123.20928062,\n",
       "         -628.51470038,  -133.82012014,   360.8744601 ,   855.56904034,\n",
       "         1350.26362059,  1844.95820083,  2339.65278107,  2834.34736131,\n",
       "         3329.04194155,  3823.73652179,  4318.43110203,  4813.12568228,\n",
       "         5307.82026252,  5802.51484276,  6297.209423  ,  6791.90400324,\n",
       "         7286.59858348,  7781.29316372,  8275.98774397]))"
      ]
     },
     "execution_count": 68,
     "metadata": {},
     "output_type": "execute_result"
    }
   ],
   "source": [
    "np.histogram(rmp2,bins=30)"
   ]
  },
  {
   "cell_type": "code",
   "execution_count": 69,
   "metadata": {},
   "outputs": [
    {
     "data": {
      "text/plain": [
       "23.460179619274449"
      ]
     },
     "execution_count": 69,
     "metadata": {},
     "output_type": "execute_result"
    }
   ],
   "source": [
    "rmp2.std()"
   ]
  },
  {
   "cell_type": "code",
   "execution_count": 70,
   "metadata": {},
   "outputs": [
    {
     "data": {
      "text/plain": [
       "(array([93633, 93633, 93633, 93634, 93634, 93634]), array([0, 1, 2, 0, 1, 2]))"
      ]
     },
     "execution_count": 70,
     "metadata": {},
     "output_type": "execute_result"
    }
   ],
   "source": [
    "np.where(abs(rmp2) > rmp2.std() )"
   ]
  },
  {
   "cell_type": "code",
   "execution_count": 71,
   "metadata": {},
   "outputs": [
    {
     "data": {
      "text/plain": [
       "array([[  2.70641681e-02,   2.00467207e-05,  -2.80903028e-04],\n",
       "       [ -6.56484966e+03,  -5.43753137e+01,   1.09893841e+03],\n",
       "       [  6.56577937e+03,   6.30983208e+01,   8.27598774e+03],\n",
       "       [  4.28673855e-02,   4.16430521e-04,   4.63505673e-05]])"
      ]
     },
     "execution_count": 71,
     "metadata": {},
     "output_type": "execute_result"
    }
   ],
   "source": [
    "rmp2[93632:93636,:]"
   ]
  },
  {
   "cell_type": "code",
   "execution_count": 72,
   "metadata": {
    "collapsed": true
   },
   "outputs": [],
   "source": [
    "rmp2[93633,:] = rmp2[93632,:]\n",
    "rmp2[93634,:] = rmp2[93635,:]"
   ]
  },
  {
   "cell_type": "code",
   "execution_count": 73,
   "metadata": {},
   "outputs": [
    {
     "data": {
      "text/plain": [
       "0.29874652366838489"
      ]
     },
     "execution_count": 73,
     "metadata": {},
     "output_type": "execute_result"
    }
   ],
   "source": [
    "rmp2.std()"
   ]
  },
  {
   "cell_type": "code",
   "execution_count": 74,
   "metadata": {},
   "outputs": [
    {
     "data": {
      "text/plain": [
       "(array([     6,      6,      6,      6,      6,      6,      5,      6,\n",
       "        199103,  10479,   8876,   6933,   5687,   8217,   4763,   7439,\n",
       "          3996,   4058,   3568,   2638,  17465,      6,      6,      6,\n",
       "             6,      6,      6,      6,      6,      6]),\n",
       " array([-0.68837326, -0.60702802, -0.52568277, -0.44433752, -0.36299228,\n",
       "        -0.28164703, -0.20030178, -0.11895654, -0.03761129,  0.04373396,\n",
       "         0.1250792 ,  0.20642445,  0.2877697 ,  0.36911494,  0.45046019,\n",
       "         0.53180544,  0.61315068,  0.69449593,  0.77584118,  0.85718642,\n",
       "         0.93853167,  1.01987692,  1.10122216,  1.18256741,  1.26391266,\n",
       "         1.3452579 ,  1.42660315,  1.5079484 ,  1.58929365,  1.67063889,\n",
       "         1.75198414]))"
      ]
     },
     "execution_count": 74,
     "metadata": {},
     "output_type": "execute_result"
    }
   ],
   "source": [
    "np.histogram(rmp2,bins=30)"
   ]
  },
  {
   "cell_type": "code",
   "execution_count": 75,
   "metadata": {
    "collapsed": true
   },
   "outputs": [],
   "source": [
    "ncf.close()"
   ]
  },
  {
   "cell_type": "code",
   "execution_count": 76,
   "metadata": {
    "collapsed": true
   },
   "outputs": [],
   "source": [
    "ncf = Dataset(\"/Users/dchandan/Research/CESM/mapping/pyscrip_modern_gx3v7_to_ll1_conserv.nc\", \"a\")\n",
    "\n",
    "ncf[\"remap_matrix\"][:,:] = rmp2\n",
    "ncf.close()"
   ]
  },
  {
   "cell_type": "code",
   "execution_count": null,
   "metadata": {
    "collapsed": true
   },
   "outputs": [],
   "source": []
  }
 ],
 "metadata": {
  "kernelspec": {
   "display_name": "Python [conda env:resc]",
   "language": "python",
   "name": "conda-env-resc-py"
  },
  "language_info": {
   "codemirror_mode": {
    "name": "ipython",
    "version": 3
   },
   "file_extension": ".py",
   "mimetype": "text/x-python",
   "name": "python",
   "nbconvert_exporter": "python",
   "pygments_lexer": "ipython3",
   "version": "3.5.3"
  }
 },
 "nbformat": 4,
 "nbformat_minor": 2
}
